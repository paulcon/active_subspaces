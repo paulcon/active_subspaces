{
 "metadata": {
  "name": "",
  "signature": "sha256:663a516ac66cd5bb39d8e4930616cf4a652bc3fb717068b002e8cf672517097e"
 },
 "nbformat": 3,
 "nbformat_minor": 0,
 "worksheets": []
}